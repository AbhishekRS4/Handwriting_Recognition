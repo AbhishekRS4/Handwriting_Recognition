{
 "cells": [
  {
   "cell_type": "code",
   "execution_count": null,
   "id": "822d540a",
   "metadata": {},
   "outputs": [],
   "source": [
    "import numpy as np\n",
    "import pandas as pd\n",
    "import matplotlib.pyplot as plt"
   ]
  },
  {
   "cell_type": "markdown",
   "id": "63bd0184",
   "metadata": {},
   "source": [
    "## Plots of data distribution"
   ]
  },
  {
   "cell_type": "code",
   "execution_count": null,
   "id": "df85ecad",
   "metadata": {},
   "outputs": [],
   "source": [
    "from dataset import split_dataset"
   ]
  },
  {
   "cell_type": "code",
   "execution_count": null,
   "id": "de55613f",
   "metadata": {},
   "outputs": [],
   "source": [
    "file_txt_labels = \"/home/abhishek/Desktop/RUG/hw_recognition/IAM-data/iam_lines_gt.txt\""
   ]
  },
  {
   "cell_type": "code",
   "execution_count": null,
   "id": "6f87b4dd",
   "metadata": {},
   "outputs": [],
   "source": [
    "_, _, train_labels, _ = split_dataset(file_txt_labels)"
   ]
  },
  {
   "cell_type": "code",
   "execution_count": null,
   "id": "3e518bf4",
   "metadata": {},
   "outputs": [],
   "source": [
    "dict_label_lengths = {}"
   ]
  },
  {
   "cell_type": "code",
   "execution_count": null,
   "id": "69e8dc24",
   "metadata": {},
   "outputs": [],
   "source": [
    "for label in train_labels:\n",
    "    length_label = len(label)\n",
    "    if length_label in dict_label_lengths:\n",
    "        dict_label_lengths[length_label] += 1\n",
    "    else:\n",
    "        dict_label_lengths[length_label] = 1"
   ]
  },
  {
   "cell_type": "code",
   "execution_count": null,
   "id": "1c4a939f",
   "metadata": {},
   "outputs": [],
   "source": [
    "train_labels[0:5]"
   ]
  },
  {
   "cell_type": "code",
   "execution_count": null,
   "id": "55412f05",
   "metadata": {},
   "outputs": [],
   "source": [
    "arr_length_counts = np.array([list(dict_label_lengths.keys()), list(dict_label_lengths.values())]).T"
   ]
  },
  {
   "cell_type": "code",
   "execution_count": null,
   "id": "e817dc1f",
   "metadata": {},
   "outputs": [],
   "source": [
    "df_length_counts = pd.DataFrame(arr_length_counts, columns=[\"lengths\", \"counts\"])"
   ]
  },
  {
   "cell_type": "code",
   "execution_count": null,
   "id": "ccdd5171",
   "metadata": {},
   "outputs": [],
   "source": [
    "df_length_counts = df_length_counts.sort_values(by=\"lengths\")"
   ]
  },
  {
   "cell_type": "code",
   "execution_count": null,
   "id": "9b6ae6dd",
   "metadata": {},
   "outputs": [],
   "source": [
    "df_length_counts.head()"
   ]
  },
  {
   "cell_type": "code",
   "execution_count": null,
   "id": "0bb58270",
   "metadata": {},
   "outputs": [],
   "source": [
    "fig = plt.figure(figsize=(8, 8))\n",
    "plt.bar(df_length_counts.lengths, df_length_counts.counts)\n",
    "plt.grid()\n",
    "plt.xlabel(\"Line lengths (number of characters)\", fontsize=20)\n",
    "plt.ylabel(\"Number of images\", fontsize=20)\n",
    "plt.title(\"Distribution of line lengths in the dataset\", fontsize=20)\n",
    "fig.show()"
   ]
  },
  {
   "cell_type": "markdown",
   "id": "275ba0bb",
   "metadata": {},
   "source": [
    "## Plots of training, model: CNN - BiLSTM"
   ]
  },
  {
   "cell_type": "code",
   "execution_count": null,
   "id": "56a94c96",
   "metadata": {},
   "outputs": [],
   "source": [
    "file_train_metrics = \"/home/abhishek/Desktop/RUG/hw_recognition/model_crnn/train_metrics.csv\""
   ]
  },
  {
   "cell_type": "code",
   "execution_count": null,
   "id": "9b12356b",
   "metadata": {},
   "outputs": [],
   "source": [
    "df_train_metrics = pd.read_csv(file_train_metrics)"
   ]
  },
  {
   "cell_type": "code",
   "execution_count": null,
   "id": "02985e30",
   "metadata": {},
   "outputs": [],
   "source": [
    "df_train_metrics.head()"
   ]
  },
  {
   "cell_type": "code",
   "execution_count": null,
   "id": "bb85ba3b",
   "metadata": {},
   "outputs": [],
   "source": [
    "fig = plt.figure(figsize=(12, 8))\n",
    "x_range = np.arange(1, df_train_metrics.shape[0]+1)\n",
    "plt.grid()\n",
    "plt.plot(x_range, df_train_metrics.loss_train, label=\"train\")\n",
    "plt.plot(x_range, df_train_metrics.loss_valid, label=\"valid\")\n",
    "plt.legend(fontsize=20)\n",
    "plt.xlabel(\"Epoch\", fontsize=20)\n",
    "plt.ylabel(\"Mean loss\", fontsize=20)\n",
    "plt.xticks(fontsize=20)\n",
    "plt.yticks(fontsize=20)\n",
    "plt.title(\"Loss vs Epoch, model CNN-BiLSTM\", fontsize=20)\n",
    "fig.show()"
   ]
  },
  {
   "cell_type": "code",
   "execution_count": null,
   "id": "864f090f",
   "metadata": {},
   "outputs": [],
   "source": [
    "fig = plt.figure(figsize=(12, 8))\n",
    "x_range = np.arange(1, df_train_metrics.shape[0]+1)\n",
    "plt.grid()\n",
    "plt.plot(x_range, df_train_metrics.cer_valid, label=\"CER\")\n",
    "plt.plot(x_range, df_train_metrics.wer_valid, label=\"WER\")\n",
    "plt.legend(fontsize=20)\n",
    "plt.xlabel(\"Epoch\", fontsize=20)\n",
    "plt.ylabel(\"Error rate (%)\", fontsize=20)\n",
    "plt.xticks(fontsize=20)\n",
    "plt.yticks(fontsize=20)\n",
    "plt.title(\"Error rate vs Epoch for validation set, model CNN-BiLSTM\", fontsize=20)\n",
    "fig.show()"
   ]
  },
  {
   "cell_type": "code",
   "execution_count": null,
   "id": "b8cb732a",
   "metadata": {},
   "outputs": [],
   "source": []
  }
 ],
 "metadata": {
  "kernelspec": {
   "display_name": "Python 3 (ipykernel)",
   "language": "python",
   "name": "python3"
  },
  "language_info": {
   "codemirror_mode": {
    "name": "ipython",
    "version": 3
   },
   "file_extension": ".py",
   "mimetype": "text/x-python",
   "name": "python",
   "nbconvert_exporter": "python",
   "pygments_lexer": "ipython3",
   "version": "3.8.10"
  }
 },
 "nbformat": 4,
 "nbformat_minor": 5
}
